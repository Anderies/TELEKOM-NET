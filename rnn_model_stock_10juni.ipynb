{
  "nbformat": 4,
  "nbformat_minor": 0,
  "metadata": {
    "colab": {
      "name": "PaperAnder1 (1).ipynb",
      "provenance": [],
      "collapsed_sections": []
    },
    "kernelspec": {
      "name": "python3",
      "display_name": "Python 3"
    },
    "language_info": {
      "name": "python"
    },
    "accelerator": "GPU"
  },
  "cells": [
    {
      "cell_type": "code",
      "metadata": {
        "id": "ldGNHcYZNkhH"
      },
      "source": [
        "import math\n",
        "from pandas_datareader import data as web\n",
        "import pandas_datareader as web\n",
        "import numpy as np\n",
        "import pandas as pd\n",
        "from sklearn.preprocessing import MinMaxScaler\n",
        "from keras.models import Sequential\n",
        "from keras.layers import Dense, LSTM\n",
        "import matplotlib.pyplot as plt\n",
        "import urllib\n",
        "from urllib.request import Request, urlopen\n",
        "import json"
      ],
      "execution_count": 4,
      "outputs": []
    },
    {
      "cell_type": "code",
      "metadata": {
        "colab": {
          "base_uri": "https://localhost:8080/"
        },
        "id": "IwZk_TV4qivU",
        "outputId": "aac7503a-ff91-4859-8960-1bd3b0699f1f"
      },
      "source": [
        "from google.colab import drive\n",
        "drive.mount('/content/drive')"
      ],
      "execution_count": 5,
      "outputs": [
        {
          "output_type": "stream",
          "text": [
            "Mounted at /content/drive\n"
          ],
          "name": "stdout"
        }
      ]
    },
    {
      "cell_type": "code",
      "metadata": {
        "colab": {
          "base_uri": "https://localhost:8080/",
          "height": 143
        },
        "id": "0BW0_lLUQ9hn",
        "outputId": "eebb3b16-1a7f-4ba9-b1cc-8cb43a740b00"
      },
      "source": [
        "data = pd.read_excel('/content/drive/MyDrive/Colab Notebooks/paperAnder/bmri_close_3.xlsx')\n",
        "data.head(3)"
      ],
      "execution_count": 6,
      "outputs": [
        {
          "output_type": "execute_result",
          "data": {
            "text/html": [
              "<div>\n",
              "<style scoped>\n",
              "    .dataframe tbody tr th:only-of-type {\n",
              "        vertical-align: middle;\n",
              "    }\n",
              "\n",
              "    .dataframe tbody tr th {\n",
              "        vertical-align: top;\n",
              "    }\n",
              "\n",
              "    .dataframe thead th {\n",
              "        text-align: right;\n",
              "    }\n",
              "</style>\n",
              "<table border=\"1\" class=\"dataframe\">\n",
              "  <thead>\n",
              "    <tr style=\"text-align: right;\">\n",
              "      <th></th>\n",
              "      <th>Unnamed: 0</th>\n",
              "      <th>date</th>\n",
              "      <th>open</th>\n",
              "      <th>high</th>\n",
              "      <th>low</th>\n",
              "      <th>close</th>\n",
              "      <th>frequency</th>\n",
              "      <th>volume</th>\n",
              "      <th>foreignbuy</th>\n",
              "      <th>foreignsell</th>\n",
              "    </tr>\n",
              "  </thead>\n",
              "  <tbody>\n",
              "    <tr>\n",
              "      <th>0</th>\n",
              "      <td>0</td>\n",
              "      <td>2021-06-04</td>\n",
              "      <td>6250</td>\n",
              "      <td>6325</td>\n",
              "      <td>6150</td>\n",
              "      <td>6150</td>\n",
              "      <td>7022</td>\n",
              "      <td>25419000</td>\n",
              "      <td>97506950000</td>\n",
              "      <td>61593930000</td>\n",
              "    </tr>\n",
              "    <tr>\n",
              "      <th>1</th>\n",
              "      <td>1</td>\n",
              "      <td>2021-06-03</td>\n",
              "      <td>6175</td>\n",
              "      <td>6275</td>\n",
              "      <td>6125</td>\n",
              "      <td>6250</td>\n",
              "      <td>10043</td>\n",
              "      <td>43213200</td>\n",
              "      <td>145277135000</td>\n",
              "      <td>97590235000</td>\n",
              "    </tr>\n",
              "    <tr>\n",
              "      <th>2</th>\n",
              "      <td>2</td>\n",
              "      <td>2021-06-02</td>\n",
              "      <td>6150</td>\n",
              "      <td>6200</td>\n",
              "      <td>6075</td>\n",
              "      <td>6100</td>\n",
              "      <td>13457</td>\n",
              "      <td>78667800</td>\n",
              "      <td>340583757500</td>\n",
              "      <td>319800692500</td>\n",
              "    </tr>\n",
              "  </tbody>\n",
              "</table>\n",
              "</div>"
            ],
            "text/plain": [
              "   Unnamed: 0        date  open  ...    volume    foreignbuy   foreignsell\n",
              "0           0  2021-06-04  6250  ...  25419000   97506950000   61593930000\n",
              "1           1  2021-06-03  6175  ...  43213200  145277135000   97590235000\n",
              "2           2  2021-06-02  6150  ...  78667800  340583757500  319800692500\n",
              "\n",
              "[3 rows x 10 columns]"
            ]
          },
          "metadata": {
            "tags": []
          },
          "execution_count": 6
        }
      ]
    },
    {
      "cell_type": "code",
      "metadata": {
        "colab": {
          "base_uri": "https://localhost:8080/",
          "height": 331
        },
        "id": "K9LSQHuYkugL",
        "outputId": "5bd6c9cd-0c60-4fe9-d5a2-5f3187fda6b5"
      },
      "source": [
        "data.corr()"
      ],
      "execution_count": 7,
      "outputs": [
        {
          "output_type": "execute_result",
          "data": {
            "text/html": [
              "<div>\n",
              "<style scoped>\n",
              "    .dataframe tbody tr th:only-of-type {\n",
              "        vertical-align: middle;\n",
              "    }\n",
              "\n",
              "    .dataframe tbody tr th {\n",
              "        vertical-align: top;\n",
              "    }\n",
              "\n",
              "    .dataframe thead th {\n",
              "        text-align: right;\n",
              "    }\n",
              "</style>\n",
              "<table border=\"1\" class=\"dataframe\">\n",
              "  <thead>\n",
              "    <tr style=\"text-align: right;\">\n",
              "      <th></th>\n",
              "      <th>Unnamed: 0</th>\n",
              "      <th>open</th>\n",
              "      <th>high</th>\n",
              "      <th>low</th>\n",
              "      <th>close</th>\n",
              "      <th>frequency</th>\n",
              "      <th>volume</th>\n",
              "      <th>foreignbuy</th>\n",
              "      <th>foreignsell</th>\n",
              "    </tr>\n",
              "  </thead>\n",
              "  <tbody>\n",
              "    <tr>\n",
              "      <th>Unnamed: 0</th>\n",
              "      <td>1.000000</td>\n",
              "      <td>0.428448</td>\n",
              "      <td>0.432851</td>\n",
              "      <td>0.428888</td>\n",
              "      <td>0.432442</td>\n",
              "      <td>-0.508224</td>\n",
              "      <td>-0.134346</td>\n",
              "      <td>0.004853</td>\n",
              "      <td>0.003114</td>\n",
              "    </tr>\n",
              "    <tr>\n",
              "      <th>open</th>\n",
              "      <td>0.428448</td>\n",
              "      <td>1.000000</td>\n",
              "      <td>0.996111</td>\n",
              "      <td>0.996650</td>\n",
              "      <td>0.991865</td>\n",
              "      <td>-0.454559</td>\n",
              "      <td>-0.369568</td>\n",
              "      <td>0.100601</td>\n",
              "      <td>-0.008491</td>\n",
              "    </tr>\n",
              "    <tr>\n",
              "      <th>high</th>\n",
              "      <td>0.432851</td>\n",
              "      <td>0.996111</td>\n",
              "      <td>1.000000</td>\n",
              "      <td>0.995608</td>\n",
              "      <td>0.996694</td>\n",
              "      <td>-0.430588</td>\n",
              "      <td>-0.336477</td>\n",
              "      <td>0.132698</td>\n",
              "      <td>0.005559</td>\n",
              "    </tr>\n",
              "    <tr>\n",
              "      <th>low</th>\n",
              "      <td>0.428888</td>\n",
              "      <td>0.996650</td>\n",
              "      <td>0.995608</td>\n",
              "      <td>1.000000</td>\n",
              "      <td>0.996272</td>\n",
              "      <td>-0.473811</td>\n",
              "      <td>-0.385454</td>\n",
              "      <td>0.101253</td>\n",
              "      <td>-0.032387</td>\n",
              "    </tr>\n",
              "    <tr>\n",
              "      <th>close</th>\n",
              "      <td>0.432442</td>\n",
              "      <td>0.991865</td>\n",
              "      <td>0.996694</td>\n",
              "      <td>0.996272</td>\n",
              "      <td>1.000000</td>\n",
              "      <td>-0.453115</td>\n",
              "      <td>-0.359605</td>\n",
              "      <td>0.124395</td>\n",
              "      <td>-0.023976</td>\n",
              "    </tr>\n",
              "    <tr>\n",
              "      <th>frequency</th>\n",
              "      <td>-0.508224</td>\n",
              "      <td>-0.454559</td>\n",
              "      <td>-0.430588</td>\n",
              "      <td>-0.473811</td>\n",
              "      <td>-0.453115</td>\n",
              "      <td>1.000000</td>\n",
              "      <td>0.740705</td>\n",
              "      <td>0.331032</td>\n",
              "      <td>0.434531</td>\n",
              "    </tr>\n",
              "    <tr>\n",
              "      <th>volume</th>\n",
              "      <td>-0.134346</td>\n",
              "      <td>-0.369568</td>\n",
              "      <td>-0.336477</td>\n",
              "      <td>-0.385454</td>\n",
              "      <td>-0.359605</td>\n",
              "      <td>0.740705</td>\n",
              "      <td>1.000000</td>\n",
              "      <td>0.667494</td>\n",
              "      <td>0.705983</td>\n",
              "    </tr>\n",
              "    <tr>\n",
              "      <th>foreignbuy</th>\n",
              "      <td>0.004853</td>\n",
              "      <td>0.100601</td>\n",
              "      <td>0.132698</td>\n",
              "      <td>0.101253</td>\n",
              "      <td>0.124395</td>\n",
              "      <td>0.331032</td>\n",
              "      <td>0.667494</td>\n",
              "      <td>1.000000</td>\n",
              "      <td>0.583893</td>\n",
              "    </tr>\n",
              "    <tr>\n",
              "      <th>foreignsell</th>\n",
              "      <td>0.003114</td>\n",
              "      <td>-0.008491</td>\n",
              "      <td>0.005559</td>\n",
              "      <td>-0.032387</td>\n",
              "      <td>-0.023976</td>\n",
              "      <td>0.434531</td>\n",
              "      <td>0.705983</td>\n",
              "      <td>0.583893</td>\n",
              "      <td>1.000000</td>\n",
              "    </tr>\n",
              "  </tbody>\n",
              "</table>\n",
              "</div>"
            ],
            "text/plain": [
              "             Unnamed: 0      open      high  ...    volume  foreignbuy  foreignsell\n",
              "Unnamed: 0     1.000000  0.428448  0.432851  ... -0.134346    0.004853     0.003114\n",
              "open           0.428448  1.000000  0.996111  ... -0.369568    0.100601    -0.008491\n",
              "high           0.432851  0.996111  1.000000  ... -0.336477    0.132698     0.005559\n",
              "low            0.428888  0.996650  0.995608  ... -0.385454    0.101253    -0.032387\n",
              "close          0.432442  0.991865  0.996694  ... -0.359605    0.124395    -0.023976\n",
              "frequency     -0.508224 -0.454559 -0.430588  ...  0.740705    0.331032     0.434531\n",
              "volume        -0.134346 -0.369568 -0.336477  ...  1.000000    0.667494     0.705983\n",
              "foreignbuy     0.004853  0.100601  0.132698  ...  0.667494    1.000000     0.583893\n",
              "foreignsell    0.003114 -0.008491  0.005559  ...  0.705983    0.583893     1.000000\n",
              "\n",
              "[9 rows x 9 columns]"
            ]
          },
          "metadata": {
            "tags": []
          },
          "execution_count": 7
        }
      ]
    },
    {
      "cell_type": "code",
      "metadata": {
        "colab": {
          "base_uri": "https://localhost:8080/",
          "height": 206
        },
        "id": "WNcxduT_dEsH",
        "outputId": "c426925b-1822-40e5-cc82-53f41c7d83a8"
      },
      "source": [
        "data = data[['open','high','low','frequency','volume','close']]\n",
        "#data = data[['close']]\n",
        "\n",
        "data_label = data[['open','high','low','frequency','volume']]\n",
        "data_close = data[['close']]\n",
        "data.head()"
      ],
      "execution_count": 8,
      "outputs": [
        {
          "output_type": "execute_result",
          "data": {
            "text/html": [
              "<div>\n",
              "<style scoped>\n",
              "    .dataframe tbody tr th:only-of-type {\n",
              "        vertical-align: middle;\n",
              "    }\n",
              "\n",
              "    .dataframe tbody tr th {\n",
              "        vertical-align: top;\n",
              "    }\n",
              "\n",
              "    .dataframe thead th {\n",
              "        text-align: right;\n",
              "    }\n",
              "</style>\n",
              "<table border=\"1\" class=\"dataframe\">\n",
              "  <thead>\n",
              "    <tr style=\"text-align: right;\">\n",
              "      <th></th>\n",
              "      <th>open</th>\n",
              "      <th>high</th>\n",
              "      <th>low</th>\n",
              "      <th>frequency</th>\n",
              "      <th>volume</th>\n",
              "      <th>close</th>\n",
              "    </tr>\n",
              "  </thead>\n",
              "  <tbody>\n",
              "    <tr>\n",
              "      <th>0</th>\n",
              "      <td>6250</td>\n",
              "      <td>6325</td>\n",
              "      <td>6150</td>\n",
              "      <td>7022</td>\n",
              "      <td>25419000</td>\n",
              "      <td>6150</td>\n",
              "    </tr>\n",
              "    <tr>\n",
              "      <th>1</th>\n",
              "      <td>6175</td>\n",
              "      <td>6275</td>\n",
              "      <td>6125</td>\n",
              "      <td>10043</td>\n",
              "      <td>43213200</td>\n",
              "      <td>6250</td>\n",
              "    </tr>\n",
              "    <tr>\n",
              "      <th>2</th>\n",
              "      <td>6150</td>\n",
              "      <td>6200</td>\n",
              "      <td>6075</td>\n",
              "      <td>13457</td>\n",
              "      <td>78667800</td>\n",
              "      <td>6100</td>\n",
              "    </tr>\n",
              "    <tr>\n",
              "      <th>3</th>\n",
              "      <td>5875</td>\n",
              "      <td>6100</td>\n",
              "      <td>5825</td>\n",
              "      <td>8105</td>\n",
              "      <td>48330000</td>\n",
              "      <td>6000</td>\n",
              "    </tr>\n",
              "    <tr>\n",
              "      <th>4</th>\n",
              "      <td>5825</td>\n",
              "      <td>5900</td>\n",
              "      <td>5775</td>\n",
              "      <td>7414</td>\n",
              "      <td>39152900</td>\n",
              "      <td>5800</td>\n",
              "    </tr>\n",
              "  </tbody>\n",
              "</table>\n",
              "</div>"
            ],
            "text/plain": [
              "   open  high   low  frequency    volume  close\n",
              "0  6250  6325  6150       7022  25419000   6150\n",
              "1  6175  6275  6125      10043  43213200   6250\n",
              "2  6150  6200  6075      13457  78667800   6100\n",
              "3  5875  6100  5825       8105  48330000   6000\n",
              "4  5825  5900  5775       7414  39152900   5800"
            ]
          },
          "metadata": {
            "tags": []
          },
          "execution_count": 8
        }
      ]
    },
    {
      "cell_type": "code",
      "metadata": {
        "colab": {
          "base_uri": "https://localhost:8080/",
          "height": 303
        },
        "id": "29yTZRr9RZYR",
        "outputId": "9dd769f0-4f76-4213-9032-a73fd4644a63"
      },
      "source": [
        "# Visualize the closing price history\n",
        "plt.figure(figsize=(8,4))\n",
        "plt.title('Price History')\n",
        "plt.plot(data['close'])\n",
        "#plt.plot(data['open'])\n",
        "\n",
        "# df['Close']\n",
        "plt.xlabel('Date',fontsize=18)\n",
        "plt.ylabel('Close Price IDR',fontsize=18)\n",
        "plt.show()"
      ],
      "execution_count": 68,
      "outputs": [
        {
          "output_type": "display_data",
          "data": {
            "image/png": "[encoded data removed]",
            "text/plain": [
              "<Figure size 576x288 with 1 Axes>"
            ]
          },
          "metadata": {
            "tags": [],
            "needs_background": "light"
          }
        }
      ]
    },
    {
      "cell_type": "markdown",
      "metadata": {
        "id": "RcJkkAvPFP8k"
      },
      "source": [
        "standar scaler, menstandarisasi angka menjadi  diantara 1 dan 0"
      ]
    },
    {
      "cell_type": "code",
      "metadata": {
        "colab": {
          "base_uri": "https://localhost:8080/"
        },
        "id": "l6nsFRZmTJ9l",
        "outputId": "1180187d-2066-405f-f407-7681974faf95"
      },
      "source": [
        "import numpy as np\n",
        "from sklearn.model_selection import train_test_split\n",
        "\n",
        "# DI SPLIT\n",
        "X_train, X_test, y_train, y_test = train_test_split(data_label, data_close, test_size=0.2, random_state=42)\n",
        "\n",
        "print(X_train.shape)\n",
        "print(X_test.shape)\n",
        "print(y_train.shape)\n",
        "print(y_test.shape)"
      ],
      "execution_count": 9,
      "outputs": [
        {
          "output_type": "stream",
          "text": [
            "(390, 5)\n",
            "(98, 5)\n",
            "(390, 1)\n",
            "(98, 1)\n"
          ],
          "name": "stdout"
        }
      ]
    },
    {
      "cell_type": "code",
      "metadata": {
        "id": "pixg20cATORt",
        "colab": {
          "base_uri": "https://localhost:8080/"
        },
        "outputId": "2f8371ff-2b80-4ad2-92bd-564eb05702b4"
      },
      "source": [
        "# Scale the all of the data to be values between 0 and 1 \n",
        "scaler = MinMaxScaler(feature_range=(0, 1)) \n",
        "\n",
        "# DI SCALER X_TRAIN DAN Y_TRAIN\n",
        "scaled_data = scaler.fit_transform(X_train)\n",
        "scaled_label = scaler.fit_transform(y_train)\n",
        "scaled_test_data = scaler.fit_transform(X_test)\n",
        "scaled_test_label = scaler.fit_transform(y_test)\n",
        "print(scaled_data.shape)\n",
        "print(scaled_label.shape)\n",
        "print(scaled_test_data.shape)\n",
        "print(scaled_test_label.shape)"
      ],
      "execution_count": 11,
      "outputs": [
        {
          "output_type": "stream",
          "text": [
            "(390, 5)\n",
            "(390, 1)\n",
            "(98, 5)\n",
            "(98, 1)\n"
          ],
          "name": "stdout"
        }
      ]
    },
    {
      "cell_type": "code",
      "metadata": {
        "colab": {
          "base_uri": "https://localhost:8080/"
        },
        "id": "3J4jS3mj89Yr",
        "outputId": "590ec87c-5613-418e-9f4c-c35675243a57"
      },
      "source": [
        "# X_trainscaled_data\n",
        "# X_train_scaled = np.reshape(scaled_data, (scaled_data.shape[0],scaled_data.shape[1]))\n",
        "# print(X_train_scaled.shape)\n",
        "\n",
        "# Y_train_scaled = np.reshape(scaled_label, (scaled_label.shape[0],scaled_label.shape[1]))\n",
        "# print(Y_train_scaled.shape)\n",
        "\n",
        "X_train_scaled_1 = np.reshape(scaled_data, (scaled_data.shape[0],scaled_data.shape[1],1))\n",
        "print(X_train_scaled_1.shape)\n",
        "\n",
        "Y_train_scaled_1 = np.reshape(scaled_label, (scaled_label.shape[0],scaled_label.shape[1],1))\n",
        "print(Y_train_scaled_1.shape)\n",
        "\n",
        "X_test_scaled_1 = np.reshape(scaled_test_data, (scaled_test_data.shape[0],scaled_test_data.shape[1],1))\n",
        "print(X_test_scaled_1.shape)\n",
        "\n",
        "Y_test_scaled_1 = np.reshape(scaled_test_label, (scaled_test_label.shape[0],scaled_test_label.shape[1],1))\n",
        "print(Y_test_scaled_1.shape)"
      ],
      "execution_count": 13,
      "outputs": [
        {
          "output_type": "stream",
          "text": [
            "(390, 5, 1)\n",
            "(390, 1, 1)\n",
            "(98, 5, 1)\n",
            "(98, 1, 1)\n"
          ],
          "name": "stdout"
        }
      ]
    },
    {
      "cell_type": "code",
      "metadata": {
        "id": "dGuGcLRD3NBN"
      },
      "source": [
        "from keras.layers import Bidirectional,TimeDistributed,Conv1D,MaxPooling1D,Flatten,RepeatVector,ConvLSTM2D\n",
        "from keras.losses import mean_squared_error\n",
        "import tensorflow as tf\n",
        "import tensorflow.keras.backend as K\n",
        "\n",
        "def root_mean_squared_error(y_true, y_pred):\n",
        "    return K.sqrt(mean_squared_error(y_true, y_pred))"
      ],
      "execution_count": 14,
      "outputs": []
    },
    {
      "cell_type": "code",
      "metadata": {
        "id": "YP-tMvDXnbEf",
        "colab": {
          "base_uri": "https://localhost:8080/"
        },
        "outputId": "d398bbd8-b477-4254-c1b9-0374e28996e6"
      },
      "source": [
        "# Build the LSTM network model\n",
        "model1 = Sequential()\n",
        "model1.add(LSTM(units=50, return_sequences=True, input_shape=((5, 1))))\n",
        "model1.add(Dense(units=25))\n",
        "model1.add(Dense(units=25))\n",
        "model1.add(Dense(units=1))\n",
        "model1.compile(optimizer='adam', loss='mse')\n",
        "\n",
        "#Bi Directional LSTM\n",
        "model2 = Sequential()\n",
        "model2.add(Bidirectional(LSTM(50, activation='relu'), input_shape=((5, 1))))\n",
        "model2.add(Dense(1))\n",
        "model2.compile(optimizer='adam', loss='mse')\n",
        "\n",
        "#Vanilla LSTM\n",
        "model3 = Sequential()\n",
        "model3.add(LSTM(50, activation='relu'))\n",
        "model3.add(Dense(1))\n",
        "model3.compile(optimizer='adam', loss='mse')\n",
        "\n",
        "#Stacked LSTM\n",
        "model4 = Sequential()\n",
        "model4.add(LSTM(50, activation='relu', return_sequences=True, input_shape=((5, 1))))\n",
        "model4.add(LSTM(50, activation='relu'))\n",
        "model4.add(Dense(1))\n",
        "model4.compile(optimizer='adam', loss='mse')\n"
      ],
      "execution_count": 15,
      "outputs": [
        {
          "output_type": "stream",
          "text": [
            "WARNING:tensorflow:Layer lstm_1 will not use cuDNN kernels since it doesn't meet the criteria. It will use a generic GPU kernel as fallback when running on GPU.\n",
            "WARNING:tensorflow:Layer lstm_1 will not use cuDNN kernels since it doesn't meet the criteria. It will use a generic GPU kernel as fallback when running on GPU.\n",
            "WARNING:tensorflow:Layer lstm_1 will not use cuDNN kernels since it doesn't meet the criteria. It will use a generic GPU kernel as fallback when running on GPU.\n",
            "WARNING:tensorflow:Layer lstm_2 will not use cuDNN kernels since it doesn't meet the criteria. It will use a generic GPU kernel as fallback when running on GPU.\n",
            "WARNING:tensorflow:Layer lstm_3 will not use cuDNN kernels since it doesn't meet the criteria. It will use a generic GPU kernel as fallback when running on GPU.\n",
            "WARNING:tensorflow:Layer lstm_4 will not use cuDNN kernels since it doesn't meet the criteria. It will use a generic GPU kernel as fallback when running on GPU.\n"
          ],
          "name": "stdout"
        }
      ]
    },
    {
      "cell_type": "code",
      "metadata": {
        "colab": {
          "base_uri": "https://localhost:8080/"
        },
        "id": "qI_9Kryznl1H",
        "outputId": "6e619739-d1e1-42b2-fe75-caf0798e97b6"
      },
      "source": [
        "history1 = model1.fit(X_train_scaled_1, Y_train_scaled_1, batch_size=1, epochs=50)"
      ],
      "execution_count": 16,
      "outputs": [
        {
          "output_type": "stream",
          "text": [
            "Epoch 1/50\n",
            "390/390 [==============================] - 21s 2ms/step - loss: 0.0643\n",
            "Epoch 2/50\n",
            "390/390 [==============================] - 1s 2ms/step - loss: 0.0120\n",
            "Epoch 3/50\n",
            "390/390 [==============================] - 1s 2ms/step - loss: 0.0079\n",
            "Epoch 4/50\n",
            "390/390 [==============================] - 1s 2ms/step - loss: 0.0056\n",
            "Epoch 5/50\n",
            "390/390 [==============================] - 1s 2ms/step - loss: 0.0037\n",
            "Epoch 6/50\n",
            "390/390 [==============================] - 1s 2ms/step - loss: 0.0025\n",
            "Epoch 7/50\n",
            "390/390 [==============================] - 1s 2ms/step - loss: 0.0017\n",
            "Epoch 8/50\n",
            "390/390 [==============================] - 1s 2ms/step - loss: 0.0013\n",
            "Epoch 9/50\n",
            "390/390 [==============================] - 1s 2ms/step - loss: 0.0014\n",
            "Epoch 10/50\n",
            "390/390 [==============================] - 1s 2ms/step - loss: 0.0014\n",
            "Epoch 11/50\n",
            "390/390 [==============================] - 1s 2ms/step - loss: 0.0022\n",
            "Epoch 12/50\n",
            "390/390 [==============================] - 1s 2ms/step - loss: 0.0013\n",
            "Epoch 13/50\n",
            "390/390 [==============================] - 1s 2ms/step - loss: 0.0015\n",
            "Epoch 14/50\n",
            "390/390 [==============================] - 1s 2ms/step - loss: 0.0013\n",
            "Epoch 15/50\n",
            "390/390 [==============================] - 1s 2ms/step - loss: 0.0011\n",
            "Epoch 16/50\n",
            "390/390 [==============================] - 1s 2ms/step - loss: 0.0011\n",
            "Epoch 17/50\n",
            "390/390 [==============================] - 1s 3ms/step - loss: 0.0012\n",
            "Epoch 18/50\n",
            "390/390 [==============================] - 1s 2ms/step - loss: 0.0011\n",
            "Epoch 19/50\n",
            "390/390 [==============================] - 1s 2ms/step - loss: 0.0012\n",
            "Epoch 20/50\n",
            "390/390 [==============================] - 1s 2ms/step - loss: 0.0013\n",
            "Epoch 21/50\n",
            "390/390 [==============================] - 1s 2ms/step - loss: 0.0011\n",
            "Epoch 22/50\n",
            "390/390 [==============================] - 1s 2ms/step - loss: 0.0013\n",
            "Epoch 23/50\n",
            "390/390 [==============================] - 1s 2ms/step - loss: 0.0010\n",
            "Epoch 24/50\n",
            "390/390 [==============================] - 1s 2ms/step - loss: 8.8945e-04\n",
            "Epoch 25/50\n",
            "390/390 [==============================] - 1s 2ms/step - loss: 9.0973e-04\n",
            "Epoch 26/50\n",
            "390/390 [==============================] - 1s 2ms/step - loss: 0.0010\n",
            "Epoch 27/50\n",
            "390/390 [==============================] - 1s 2ms/step - loss: 0.0012\n",
            "Epoch 28/50\n",
            "390/390 [==============================] - 1s 3ms/step - loss: 9.4733e-04\n",
            "Epoch 29/50\n",
            "390/390 [==============================] - 1s 2ms/step - loss: 0.0010\n",
            "Epoch 30/50\n",
            "390/390 [==============================] - 1s 2ms/step - loss: 0.0011\n",
            "Epoch 31/50\n",
            "390/390 [==============================] - 1s 2ms/step - loss: 8.5536e-04\n",
            "Epoch 32/50\n",
            "390/390 [==============================] - 1s 2ms/step - loss: 0.0011\n",
            "Epoch 33/50\n",
            "390/390 [==============================] - 1s 2ms/step - loss: 0.0014\n",
            "Epoch 34/50\n",
            "390/390 [==============================] - 1s 2ms/step - loss: 0.0011\n",
            "Epoch 35/50\n",
            "390/390 [==============================] - 1s 2ms/step - loss: 8.5667e-04\n",
            "Epoch 36/50\n",
            "390/390 [==============================] - 1s 2ms/step - loss: 0.0012\n",
            "Epoch 37/50\n",
            "390/390 [==============================] - 1s 2ms/step - loss: 9.0092e-04\n",
            "Epoch 38/50\n",
            "390/390 [==============================] - 1s 2ms/step - loss: 0.0012\n",
            "Epoch 39/50\n",
            "390/390 [==============================] - 1s 2ms/step - loss: 0.0010\n",
            "Epoch 40/50\n",
            "390/390 [==============================] - 1s 2ms/step - loss: 8.9265e-04\n",
            "Epoch 41/50\n",
            "390/390 [==============================] - 1s 3ms/step - loss: 8.2673e-04\n",
            "Epoch 42/50\n",
            "390/390 [==============================] - 1s 2ms/step - loss: 8.0746e-04\n",
            "Epoch 43/50\n",
            "390/390 [==============================] - 1s 2ms/step - loss: 7.7370e-04\n",
            "Epoch 44/50\n",
            "390/390 [==============================] - 1s 3ms/step - loss: 9.2789e-04\n",
            "Epoch 45/50\n",
            "390/390 [==============================] - 1s 2ms/step - loss: 8.8871e-04\n",
            "Epoch 46/50\n",
            "390/390 [==============================] - 1s 3ms/step - loss: 8.4474e-04\n",
            "Epoch 47/50\n",
            "390/390 [==============================] - 1s 2ms/step - loss: 8.0377e-04\n",
            "Epoch 48/50\n",
            "390/390 [==============================] - 1s 2ms/step - loss: 9.1527e-04\n",
            "Epoch 49/50\n",
            "390/390 [==============================] - 1s 3ms/step - loss: 0.0013\n",
            "Epoch 50/50\n",
            "390/390 [==============================] - 1s 2ms/step - loss: 8.9655e-04\n"
          ],
          "name": "stdout"
        }
      ]
    },
    {
      "cell_type": "code",
      "metadata": {
        "colab": {
          "base_uri": "https://localhost:8080/"
        },
        "id": "U3BwXVjL2oYj",
        "outputId": "6c88980e-1931-4b7e-ad77-86009d5a7906"
      },
      "source": [
        "history2 = model2.fit(X_train_scaled_1, Y_train_scaled_1, batch_size=1, epochs=50)"
      ],
      "execution_count": 17,
      "outputs": [
        {
          "output_type": "stream",
          "text": [
            "Epoch 1/50\n",
            "390/390 [==============================] - 11s 7ms/step - loss: 0.0684\n",
            "Epoch 2/50\n",
            "390/390 [==============================] - 3s 7ms/step - loss: 0.0020\n",
            "Epoch 3/50\n",
            "390/390 [==============================] - 3s 7ms/step - loss: 0.0012\n",
            "Epoch 4/50\n",
            "390/390 [==============================] - 3s 7ms/step - loss: 8.5093e-04\n",
            "Epoch 5/50\n",
            "390/390 [==============================] - 3s 7ms/step - loss: 6.6507e-04\n",
            "Epoch 6/50\n",
            "390/390 [==============================] - 3s 7ms/step - loss: 7.5263e-04\n",
            "Epoch 7/50\n",
            "390/390 [==============================] - 3s 7ms/step - loss: 7.6505e-04\n",
            "Epoch 8/50\n",
            "390/390 [==============================] - 3s 7ms/step - loss: 7.4079e-04\n",
            "Epoch 9/50\n",
            "390/390 [==============================] - 3s 7ms/step - loss: 8.1081e-04\n",
            "Epoch 10/50\n",
            "390/390 [==============================] - 3s 7ms/step - loss: 9.1420e-04\n",
            "Epoch 11/50\n",
            "390/390 [==============================] - 3s 7ms/step - loss: 8.9090e-04\n",
            "Epoch 12/50\n",
            "390/390 [==============================] - 3s 7ms/step - loss: 6.2589e-04\n",
            "Epoch 13/50\n",
            "390/390 [==============================] - 3s 7ms/step - loss: 0.0011\n",
            "Epoch 14/50\n",
            "390/390 [==============================] - 3s 7ms/step - loss: 6.9798e-04\n",
            "Epoch 15/50\n",
            "390/390 [==============================] - 3s 7ms/step - loss: 7.4896e-04\n",
            "Epoch 16/50\n",
            "390/390 [==============================] - 3s 7ms/step - loss: 8.7113e-04\n",
            "Epoch 17/50\n",
            "390/390 [==============================] - 3s 7ms/step - loss: 7.2427e-04\n",
            "Epoch 18/50\n",
            "390/390 [==============================] - 3s 7ms/step - loss: 9.9839e-04\n",
            "Epoch 19/50\n",
            "390/390 [==============================] - 3s 7ms/step - loss: 7.1572e-04\n",
            "Epoch 20/50\n",
            "390/390 [==============================] - 3s 7ms/step - loss: 6.1303e-04\n",
            "Epoch 21/50\n",
            "390/390 [==============================] - 3s 7ms/step - loss: 7.0810e-04\n",
            "Epoch 22/50\n",
            "390/390 [==============================] - 3s 7ms/step - loss: 6.2128e-04\n",
            "Epoch 23/50\n",
            "390/390 [==============================] - 3s 7ms/step - loss: 9.1378e-04\n",
            "Epoch 24/50\n",
            "390/390 [==============================] - 3s 7ms/step - loss: 7.2199e-04\n",
            "Epoch 25/50\n",
            "390/390 [==============================] - 3s 7ms/step - loss: 6.4235e-04\n",
            "Epoch 26/50\n",
            "390/390 [==============================] - 3s 7ms/step - loss: 0.0010\n",
            "Epoch 27/50\n",
            "390/390 [==============================] - 3s 7ms/step - loss: 7.1465e-04\n",
            "Epoch 28/50\n",
            "390/390 [==============================] - 3s 7ms/step - loss: 6.5458e-04\n",
            "Epoch 29/50\n",
            "390/390 [==============================] - 3s 7ms/step - loss: 8.0445e-04\n",
            "Epoch 30/50\n",
            "390/390 [==============================] - 3s 7ms/step - loss: 6.9165e-04\n",
            "Epoch 31/50\n",
            "390/390 [==============================] - 3s 7ms/step - loss: 6.2522e-04\n",
            "Epoch 32/50\n",
            "390/390 [==============================] - 3s 7ms/step - loss: 8.0056e-04\n",
            "Epoch 33/50\n",
            "390/390 [==============================] - 3s 7ms/step - loss: 6.8245e-04\n",
            "Epoch 34/50\n",
            "390/390 [==============================] - 3s 7ms/step - loss: 7.6580e-04\n",
            "Epoch 35/50\n",
            "390/390 [==============================] - 3s 7ms/step - loss: 6.6892e-04\n",
            "Epoch 36/50\n",
            "390/390 [==============================] - 3s 7ms/step - loss: 8.0233e-04\n",
            "Epoch 37/50\n",
            "390/390 [==============================] - 3s 7ms/step - loss: 6.6521e-04\n",
            "Epoch 38/50\n",
            "390/390 [==============================] - 3s 7ms/step - loss: 7.2051e-04\n",
            "Epoch 39/50\n",
            "390/390 [==============================] - 3s 7ms/step - loss: 5.9519e-04\n",
            "Epoch 40/50\n",
            "390/390 [==============================] - 3s 7ms/step - loss: 7.0503e-04\n",
            "Epoch 41/50\n",
            "390/390 [==============================] - 3s 7ms/step - loss: 5.6859e-04\n",
            "Epoch 42/50\n",
            "390/390 [==============================] - 3s 7ms/step - loss: 6.3277e-04\n",
            "Epoch 43/50\n",
            "390/390 [==============================] - 3s 7ms/step - loss: 6.0075e-04\n",
            "Epoch 44/50\n",
            "390/390 [==============================] - 3s 7ms/step - loss: 5.1620e-04\n",
            "Epoch 45/50\n",
            "390/390 [==============================] - 3s 7ms/step - loss: 4.8241e-04\n",
            "Epoch 46/50\n",
            "390/390 [==============================] - 3s 7ms/step - loss: 5.1236e-04\n",
            "Epoch 47/50\n",
            "390/390 [==============================] - 3s 7ms/step - loss: 5.6174e-04\n",
            "Epoch 48/50\n",
            "390/390 [==============================] - 3s 7ms/step - loss: 6.0242e-04\n",
            "Epoch 49/50\n",
            "390/390 [==============================] - 3s 7ms/step - loss: 5.4218e-04\n",
            "Epoch 50/50\n",
            "390/390 [==============================] - 3s 7ms/step - loss: 6.2205e-04\n"
          ],
          "name": "stdout"
        }
      ]
    },
    {
      "cell_type": "code",
      "metadata": {
        "colab": {
          "base_uri": "https://localhost:8080/"
        },
        "id": "GMseMFMD4Tzd",
        "outputId": "7588548e-8f1f-49e2-a0a9-15d6fb85a54c"
      },
      "source": [
        "history3 = model3.fit(X_train_scaled_1, Y_train_scaled_1, batch_size=1, epochs=50)"
      ],
      "execution_count": 18,
      "outputs": [
        {
          "output_type": "stream",
          "text": [
            "Epoch 1/50\n",
            "390/390 [==============================] - 12s 4ms/step - loss: 0.0961\n",
            "Epoch 2/50\n",
            "390/390 [==============================] - 2s 4ms/step - loss: 0.0019\n",
            "Epoch 3/50\n",
            "390/390 [==============================] - 2s 4ms/step - loss: 0.0011\n",
            "Epoch 4/50\n",
            "390/390 [==============================] - 2s 5ms/step - loss: 9.1689e-04\n",
            "Epoch 5/50\n",
            "390/390 [==============================] - 2s 4ms/step - loss: 8.2860e-04\n",
            "Epoch 6/50\n",
            "390/390 [==============================] - 2s 5ms/step - loss: 8.2521e-04\n",
            "Epoch 7/50\n",
            "390/390 [==============================] - 2s 4ms/step - loss: 8.6575e-04\n",
            "Epoch 8/50\n",
            "390/390 [==============================] - 2s 4ms/step - loss: 8.3677e-04\n",
            "Epoch 9/50\n",
            "390/390 [==============================] - 2s 4ms/step - loss: 8.9432e-04\n",
            "Epoch 10/50\n",
            "390/390 [==============================] - 2s 4ms/step - loss: 7.6611e-04\n",
            "Epoch 11/50\n",
            "390/390 [==============================] - 2s 4ms/step - loss: 8.9187e-04\n",
            "Epoch 12/50\n",
            "390/390 [==============================] - 2s 4ms/step - loss: 9.0368e-04\n",
            "Epoch 13/50\n",
            "390/390 [==============================] - 2s 4ms/step - loss: 8.3202e-04\n",
            "Epoch 14/50\n",
            "390/390 [==============================] - 2s 4ms/step - loss: 7.3601e-04\n",
            "Epoch 15/50\n",
            "390/390 [==============================] - 2s 4ms/step - loss: 8.7546e-04\n",
            "Epoch 16/50\n",
            "390/390 [==============================] - 2s 4ms/step - loss: 7.4711e-04\n",
            "Epoch 17/50\n",
            "390/390 [==============================] - 2s 4ms/step - loss: 6.4432e-04\n",
            "Epoch 18/50\n",
            "390/390 [==============================] - 2s 4ms/step - loss: 7.8035e-04\n",
            "Epoch 19/50\n",
            "390/390 [==============================] - 2s 4ms/step - loss: 7.3601e-04\n",
            "Epoch 20/50\n",
            "390/390 [==============================] - 2s 4ms/step - loss: 7.2682e-04\n",
            "Epoch 21/50\n",
            "390/390 [==============================] - 2s 4ms/step - loss: 8.1123e-04\n",
            "Epoch 22/50\n",
            "390/390 [==============================] - 2s 5ms/step - loss: 7.4462e-04\n",
            "Epoch 23/50\n",
            "390/390 [==============================] - 2s 4ms/step - loss: 6.3471e-04\n",
            "Epoch 24/50\n",
            "390/390 [==============================] - 2s 4ms/step - loss: 6.3785e-04\n",
            "Epoch 25/50\n",
            "390/390 [==============================] - 2s 4ms/step - loss: 6.5209e-04\n",
            "Epoch 26/50\n",
            "390/390 [==============================] - 2s 4ms/step - loss: 6.9707e-04\n",
            "Epoch 27/50\n",
            "390/390 [==============================] - 2s 4ms/step - loss: 6.6902e-04\n",
            "Epoch 28/50\n",
            "390/390 [==============================] - 2s 4ms/step - loss: 6.4810e-04\n",
            "Epoch 29/50\n",
            "390/390 [==============================] - 2s 4ms/step - loss: 7.3000e-04\n",
            "Epoch 30/50\n",
            "390/390 [==============================] - 2s 4ms/step - loss: 8.1667e-04\n",
            "Epoch 31/50\n",
            "390/390 [==============================] - 2s 4ms/step - loss: 5.6429e-04\n",
            "Epoch 32/50\n",
            "390/390 [==============================] - 2s 4ms/step - loss: 7.6937e-04\n",
            "Epoch 33/50\n",
            "390/390 [==============================] - 2s 4ms/step - loss: 5.8048e-04\n",
            "Epoch 34/50\n",
            "390/390 [==============================] - 2s 5ms/step - loss: 4.8004e-04\n",
            "Epoch 35/50\n",
            "390/390 [==============================] - 2s 4ms/step - loss: 6.9532e-04\n",
            "Epoch 36/50\n",
            "390/390 [==============================] - 2s 4ms/step - loss: 7.9074e-04\n",
            "Epoch 37/50\n",
            "390/390 [==============================] - 2s 5ms/step - loss: 6.1502e-04\n",
            "Epoch 38/50\n",
            "390/390 [==============================] - 2s 4ms/step - loss: 6.7258e-04\n",
            "Epoch 39/50\n",
            "390/390 [==============================] - 2s 4ms/step - loss: 6.7839e-04\n",
            "Epoch 40/50\n",
            "390/390 [==============================] - 2s 5ms/step - loss: 4.4887e-04\n",
            "Epoch 41/50\n",
            "390/390 [==============================] - 2s 4ms/step - loss: 5.4691e-04\n",
            "Epoch 42/50\n",
            "390/390 [==============================] - 2s 4ms/step - loss: 5.9528e-04\n",
            "Epoch 43/50\n",
            "390/390 [==============================] - 2s 4ms/step - loss: 5.6079e-04\n",
            "Epoch 44/50\n",
            "390/390 [==============================] - 2s 4ms/step - loss: 5.4703e-04\n",
            "Epoch 45/50\n",
            "390/390 [==============================] - 2s 4ms/step - loss: 4.7386e-04\n",
            "Epoch 46/50\n",
            "390/390 [==============================] - 2s 5ms/step - loss: 6.1252e-04\n",
            "Epoch 47/50\n",
            "390/390 [==============================] - 2s 4ms/step - loss: 6.2164e-04\n",
            "Epoch 48/50\n",
            "390/390 [==============================] - 2s 5ms/step - loss: 5.6234e-04\n",
            "Epoch 49/50\n",
            "390/390 [==============================] - 2s 4ms/step - loss: 4.7007e-04\n",
            "Epoch 50/50\n",
            "390/390 [==============================] - 2s 4ms/step - loss: 5.6327e-04\n"
          ],
          "name": "stdout"
        }
      ]
    },
    {
      "cell_type": "code",
      "metadata": {
        "colab": {
          "base_uri": "https://localhost:8080/"
        },
        "id": "zP-M9l1qAPH-",
        "outputId": "8003bc44-9693-4ffc-dfcd-7500c28e8a3f"
      },
      "source": [
        "history4 = model4.fit(X_train_scaled_1, Y_train_scaled_1, batch_size=1, epochs=50)"
      ],
      "execution_count": 19,
      "outputs": [
        {
          "output_type": "stream",
          "text": [
            "Epoch 1/50\n",
            "390/390 [==============================] - 5s 8ms/step - loss: 0.0950\n",
            "Epoch 2/50\n",
            "390/390 [==============================] - 3s 8ms/step - loss: 0.0020\n",
            "Epoch 3/50\n",
            "390/390 [==============================] - 3s 8ms/step - loss: 0.0010\n",
            "Epoch 4/50\n",
            "390/390 [==============================] - 3s 8ms/step - loss: 9.3324e-04\n",
            "Epoch 5/50\n",
            "390/390 [==============================] - 3s 8ms/step - loss: 0.0015\n",
            "Epoch 6/50\n",
            "390/390 [==============================] - 3s 8ms/step - loss: 9.1827e-04\n",
            "Epoch 7/50\n",
            "390/390 [==============================] - 3s 8ms/step - loss: 0.0013\n",
            "Epoch 8/50\n",
            "390/390 [==============================] - 3s 8ms/step - loss: 9.9680e-04\n",
            "Epoch 9/50\n",
            "390/390 [==============================] - 3s 8ms/step - loss: 0.0010\n",
            "Epoch 10/50\n",
            "390/390 [==============================] - 3s 8ms/step - loss: 9.1134e-04\n",
            "Epoch 11/50\n",
            "390/390 [==============================] - 3s 8ms/step - loss: 8.6591e-04\n",
            "Epoch 12/50\n",
            "390/390 [==============================] - 3s 8ms/step - loss: 9.1625e-04\n",
            "Epoch 13/50\n",
            "390/390 [==============================] - 3s 8ms/step - loss: 7.6226e-04\n",
            "Epoch 14/50\n",
            "390/390 [==============================] - 3s 8ms/step - loss: 8.7239e-04\n",
            "Epoch 15/50\n",
            "390/390 [==============================] - 3s 8ms/step - loss: 9.6116e-04\n",
            "Epoch 16/50\n",
            "390/390 [==============================] - 3s 8ms/step - loss: 0.0013\n",
            "Epoch 17/50\n",
            "390/390 [==============================] - 3s 8ms/step - loss: 0.0010\n",
            "Epoch 18/50\n",
            "390/390 [==============================] - 3s 8ms/step - loss: 0.0011\n",
            "Epoch 19/50\n",
            "390/390 [==============================] - 3s 8ms/step - loss: 8.2762e-04\n",
            "Epoch 20/50\n",
            "390/390 [==============================] - 3s 8ms/step - loss: 9.3237e-04\n",
            "Epoch 21/50\n",
            "390/390 [==============================] - 3s 8ms/step - loss: 9.6534e-04\n",
            "Epoch 22/50\n",
            "390/390 [==============================] - 3s 8ms/step - loss: 0.0010\n",
            "Epoch 23/50\n",
            "390/390 [==============================] - 3s 8ms/step - loss: 0.0014\n",
            "Epoch 24/50\n",
            "390/390 [==============================] - 3s 8ms/step - loss: 0.0011\n",
            "Epoch 25/50\n",
            "390/390 [==============================] - 3s 8ms/step - loss: 0.0011\n",
            "Epoch 26/50\n",
            "390/390 [==============================] - 3s 8ms/step - loss: 7.3660e-04\n",
            "Epoch 27/50\n",
            "390/390 [==============================] - 3s 8ms/step - loss: 7.0968e-04\n",
            "Epoch 28/50\n",
            "390/390 [==============================] - 3s 8ms/step - loss: 8.3841e-04\n",
            "Epoch 29/50\n",
            "390/390 [==============================] - 3s 8ms/step - loss: 9.3625e-04\n",
            "Epoch 30/50\n",
            "390/390 [==============================] - 3s 8ms/step - loss: 7.4327e-04\n",
            "Epoch 31/50\n",
            "390/390 [==============================] - 3s 9ms/step - loss: 6.8974e-04\n",
            "Epoch 32/50\n",
            "390/390 [==============================] - 3s 9ms/step - loss: 9.0927e-04\n",
            "Epoch 33/50\n",
            "390/390 [==============================] - 3s 9ms/step - loss: 7.2830e-04\n",
            "Epoch 34/50\n",
            "390/390 [==============================] - 3s 8ms/step - loss: 9.9465e-04\n",
            "Epoch 35/50\n",
            "390/390 [==============================] - 3s 8ms/step - loss: 0.0011\n",
            "Epoch 36/50\n",
            "390/390 [==============================] - 3s 9ms/step - loss: 6.9534e-04\n",
            "Epoch 37/50\n",
            "390/390 [==============================] - 3s 8ms/step - loss: 9.3818e-04\n",
            "Epoch 38/50\n",
            "390/390 [==============================] - 3s 8ms/step - loss: 7.8634e-04\n",
            "Epoch 39/50\n",
            "390/390 [==============================] - 3s 8ms/step - loss: 0.0011\n",
            "Epoch 40/50\n",
            "390/390 [==============================] - 3s 8ms/step - loss: 7.4152e-04\n",
            "Epoch 41/50\n",
            "390/390 [==============================] - 3s 8ms/step - loss: 6.7514e-04\n",
            "Epoch 42/50\n",
            "390/390 [==============================] - 3s 8ms/step - loss: 7.8003e-04\n",
            "Epoch 43/50\n",
            "390/390 [==============================] - 3s 8ms/step - loss: 9.2764e-04\n",
            "Epoch 44/50\n",
            "390/390 [==============================] - 3s 8ms/step - loss: 5.4941e-04\n",
            "Epoch 45/50\n",
            "390/390 [==============================] - 3s 8ms/step - loss: 6.7488e-04\n",
            "Epoch 46/50\n",
            "390/390 [==============================] - 3s 8ms/step - loss: 0.0010\n",
            "Epoch 47/50\n",
            "390/390 [==============================] - 3s 8ms/step - loss: 7.0167e-04\n",
            "Epoch 48/50\n",
            "390/390 [==============================] - 3s 8ms/step - loss: 6.3193e-04\n",
            "Epoch 49/50\n",
            "390/390 [==============================] - 3s 8ms/step - loss: 6.2222e-04\n",
            "Epoch 50/50\n",
            "390/390 [==============================] - 3s 8ms/step - loss: 5.7020e-04\n"
          ],
          "name": "stdout"
        }
      ]
    },
    {
      "cell_type": "code",
      "metadata": {
        "colab": {
          "base_uri": "https://localhost:8080/",
          "height": 253
        },
        "id": "xqrXb1czAUoK",
        "outputId": "e10e339f-f655-4953-e6de-92f4e3893601"
      },
      "source": [
        "# print(prediction1)\n",
        "print(\"============\")\n",
        "b = []\n",
        "for i,idx in enumerate(Y_test_scaled_1):\n",
        "  # print(i)\n",
        "  b.append(idx[i])\n",
        "# print(Y_test_scaled_1.shape)\n",
        "from sklearn.metrics import mean_absolute_error\n",
        "\n",
        "# a = mean_absolute_error(prediction1, Y_test_scaled_1)\n",
        "\n",
        "# a"
      ],
      "execution_count": 89,
      "outputs": [
        {
          "output_type": "stream",
          "text": [
            "============\n"
          ],
          "name": "stdout"
        },
        {
          "output_type": "error",
          "ename": "IndexError",
          "evalue": "ignored",
          "traceback": [
            "\u001b[0;31m---------------------------------------------------------------------------\u001b[0m",
            "\u001b[0;31mIndexError\u001b[0m                                Traceback (most recent call last)",
            "\u001b[0;32m<ipython-input-89-1d90925aea00>\u001b[0m in \u001b[0;36m<module>\u001b[0;34m()\u001b[0m\n\u001b[1;32m      4\u001b[0m \u001b[0;32mfor\u001b[0m \u001b[0mi\u001b[0m\u001b[0;34m,\u001b[0m\u001b[0midx\u001b[0m \u001b[0;32min\u001b[0m \u001b[0menumerate\u001b[0m\u001b[0;34m(\u001b[0m\u001b[0mY_test_scaled_1\u001b[0m\u001b[0;34m)\u001b[0m\u001b[0;34m:\u001b[0m\u001b[0;34m\u001b[0m\u001b[0;34m\u001b[0m\u001b[0m\n\u001b[1;32m      5\u001b[0m   \u001b[0;31m# print(i)\u001b[0m\u001b[0;34m\u001b[0m\u001b[0;34m\u001b[0m\u001b[0;34m\u001b[0m\u001b[0m\n\u001b[0;32m----> 6\u001b[0;31m   \u001b[0mb\u001b[0m\u001b[0;34m.\u001b[0m\u001b[0mappend\u001b[0m\u001b[0;34m(\u001b[0m\u001b[0midx\u001b[0m\u001b[0;34m[\u001b[0m\u001b[0mi\u001b[0m\u001b[0;34m]\u001b[0m\u001b[0;34m)\u001b[0m\u001b[0;34m\u001b[0m\u001b[0;34m\u001b[0m\u001b[0m\n\u001b[0m\u001b[1;32m      7\u001b[0m \u001b[0;31m# print(Y_test_scaled_1.shape)\u001b[0m\u001b[0;34m\u001b[0m\u001b[0;34m\u001b[0m\u001b[0;34m\u001b[0m\u001b[0m\n\u001b[1;32m      8\u001b[0m \u001b[0;32mfrom\u001b[0m \u001b[0msklearn\u001b[0m\u001b[0;34m.\u001b[0m\u001b[0mmetrics\u001b[0m \u001b[0;32mimport\u001b[0m \u001b[0mmean_absolute_error\u001b[0m\u001b[0;34m\u001b[0m\u001b[0;34m\u001b[0m\u001b[0m\n",
            "\u001b[0;31mIndexError\u001b[0m: index 1 is out of bounds for axis 0 with size 1"
          ]
        }
      ]
    },
    {
      "cell_type": "markdown",
      "metadata": {
        "id": "Amwz6ivYAx5O"
      },
      "source": [
        "TESTING 4 MODEL"
      ]
    },
    {
      "cell_type": "code",
      "metadata": {
        "colab": {
          "base_uri": "https://localhost:8080/"
        },
        "id": "y2S5Gkq9BX0X",
        "outputId": "a620655b-767b-41b6-a5cf-07166c377af8"
      },
      "source": [
        "from sklearn.preprocessing import MinMaxScaler\n",
        "\n",
        "prediction1 = model1.predict(X_test_scaled_1)\n",
        "print(\"RATA-RATA HARGA TEST\",np.mean(((Y_test_scaled_1)*n)))\n",
        "\n",
        "n = 10000\n",
        "total_data_test = 98\n",
        "# Calculate /Get the value of RMSE\n",
        "rmse1 = np.sqrt(np.mean(((prediction1 - Y_test_scaled_1)**2)*n))\n",
        "print(\"MODEL 1 - VANILA LSTM + DENSE LAYER\")\n",
        "print(\"RATA-RATA PERBEDAAN HARGA\",np.mean(((prediction1 - Y_test_scaled_1)*n)))\n",
        "print(\"RATA-RATA HARGA PREDIKSI\",np.mean(((prediction1)*n)))\n",
        "print('MSE PREDIKSI - TEST',np.mean((prediction1 - Y_test_scaled_1)**2) / 98)\n",
        "print('RMSE PREDIKSI - TEST',np.sqrt(np.mean(((prediction1 - Y_test_scaled_1)**2)* 98)))\n",
        "\n",
        "\n",
        "prediction2 = model2.predict(X_test_scaled_1)\n",
        "print(\"MODEL 2 - BI LSTM + DENSE LAYER\")\n",
        "print(\"RATA-RATA PERBEDAAN HARGA\",np.mean(((prediction2 - Y_test_scaled_1)*n)))\n",
        "print(\"RATA-RATA HARGA PREDIKSI\",np.mean(((prediction2)*n)))\n",
        "print('MSE PREDIKSI - TEST',np.mean((prediction2 - Y_test_scaled_1)**2) / 98)\n",
        "print('RMSE PREDIKSI - TEST',np.sqrt(np.mean((prediction2 - Y_test_scaled_1)**2) / 98))\n",
        "\n",
        "prediction3 = model3.predict(X_test_scaled_1)\n",
        "print(\"MODEL 3 - Vanila LSTM\")\n",
        "print(\"RATA-RATA PERBEDAAN HARGA\",np.mean(((prediction3 - Y_test_scaled_1)*n)))\n",
        "print(\"RATA-RATA HARGA PREDIKSI\",np.mean(((prediction3)*n)))\n",
        "print('MSE PREDIKSI - TEST',np.mean((prediction3 - Y_test_scaled_1)**2) / 98)\n",
        "print('RMSE PREDIKSI - TEST',np.sqrt(np.mean((prediction3 - Y_test_scaled_1)**2) / 98))\n",
        "\n",
        "prediction4 = model4.predict(X_test_scaled_1)\n",
        "print(\"MODEL 4 - Stacked LSTM\")\n",
        "print(\"RATA-RATA PERBEDAAN HARGA\",np.mean(((prediction4 - Y_test_scaled_1)*n)))\n",
        "print(\"RATA-RATA HARGA PREDIKSI\",np.mean(((prediction4)*n)))\n",
        "print('MSE PREDIKSI - TEST',np.mean((prediction4 - Y_test_scaled_1)**2) / 98)\n",
        "print('RMSE PREDIKSI - TEST',np.sqrt(np.mean((prediction4 - Y_test_scaled_1)**2) / 98))"
      ],
      "execution_count": 72,
      "outputs": [
        {
          "output_type": "stream",
          "text": [
            "RATA-RATA HARGA TEST 6442.437602218587\n",
            "MODEL 1 - VANILA LSTM + DENSE LAYER\n",
            "RATA-RATA PERBEDAAN HARGA 23.578547119823018\n",
            "RATA-RATA HARGA PREDIKSI 6466.016\n",
            "MSE PREDIKSI - TEST 1.3751466343416372e-05\n",
            "RMSE PREDIKSI - TEST 0.3634131020782972\n",
            "MODEL 2 - BI LSTM + DENSE LAYER\n",
            "RATA-RATA PERBEDAAN HARGA -17.5741284212567\n",
            "RATA-RATA HARGA PREDIKSI 6424.8633\n",
            "MSE PREDIKSI - TEST 0.0010944119805948683\n",
            "RMSE PREDIKSI - TEST 0.03308189808029262\n",
            "MODEL 3 - Vanila LSTM\n",
            "RATA-RATA PERBEDAAN HARGA 15.199899471872941\n",
            "RATA-RATA HARGA PREDIKSI 6457.638\n",
            "MSE PREDIKSI - TEST 0.0011193575449869107\n",
            "RMSE PREDIKSI - TEST 0.03345680117684461\n",
            "MODEL 4 - Stacked LSTM\n",
            "RATA-RATA PERBEDAAN HARGA -28.079034239933158\n",
            "RATA-RATA HARGA PREDIKSI 6414.3584\n",
            "MSE PREDIKSI - TEST 0.0010950012564796675\n",
            "RMSE PREDIKSI - TEST 0.0330908032008845\n"
          ],
          "name": "stdout"
        }
      ]
    },
    {
      "cell_type": "markdown",
      "metadata": {
        "id": "hEYingKzYDjR"
      },
      "source": [
        "plot result "
      ]
    },
    {
      "cell_type": "code",
      "metadata": {
        "id": "usApXPglDnG1",
        "colab": {
          "base_uri": "https://localhost:8080/",
          "height": 625
        },
        "outputId": "e02acb60-13ce-48cf-c1ab-0bd33a1c4b80"
      },
      "source": [
        "# Plot/Create the data for the graph\n",
        "train = data[:training_data_len]\n",
        "valid = data[training_data_len:]\n",
        "valid['Predictions'] = predictions4  #######pakai model terbaik\n",
        "# Visualize the data\n",
        "plt.figure(figsize=(12,8))\n",
        "plt.title('LSTM Model')\n",
        "plt.xlabel('Days', fontsize=18)\n",
        "plt.ylabel('Close Price USD ($)', fontsize=18)\n",
        "plt.plot(train['close'])\n",
        "plt.plot(valid[['close', 'Predictions']])\n",
        "plt.legend(['Train', 'Val', 'Predictions'], loc='lower right')\n",
        "plt.show()"
      ],
      "execution_count": null,
      "outputs": [
        {
          "output_type": "stream",
          "text": [
            "/usr/local/lib/python3.7/dist-packages/ipykernel_launcher.py:4: SettingWithCopyWarning: \n",
            "A value is trying to be set on a copy of a slice from a DataFrame.\n",
            "Try using .loc[row_indexer,col_indexer] = value instead\n",
            "\n",
            "See the caveats in the documentation: https://pandas.pydata.org/pandas-docs/stable/user_guide/indexing.html#returning-a-view-versus-a-copy\n",
            "  after removing the cwd from sys.path.\n"
          ],
          "name": "stderr"
        },
        {
          "output_type": "display_data",
          "data": {
            "image/png": "[encoded data removed]",
            "text/plain": [
              "<Figure size 864x576 with 1 Axes>"
            ]
          },
          "metadata": {
            "tags": [],
            "needs_background": "light"
          }
        }
      ]
    },
    {
      "cell_type": "code",
      "metadata": {
        "id": "HF0p4iFSGlQC"
      },
      "source": [
        "# Get the quote\n",
        "bmri_quote  = data\n",
        "# BMRI_quote\n",
        "# Create a new dataframe\n",
        "new_df = bmri_quote.filter(['close'])\n",
        "\n",
        "# Get the last 60 day closing price \n",
        "last_60_days = new_df[0:30].values\n",
        "# Scale the data to be values between 0 and 1\n",
        "last_60_days_scaled = scaler.fit_transform(last_60_days)\n",
        "# Create an empty list\n",
        "X_test2 = []\n",
        "# Append teh past 60 days\n",
        "X_test2.append(last_60_days_scaled)\n",
        "# Convert the X_test data set to a numpy array\n",
        "X_test2 = np.array(X_test2)\n",
        "# Reshape the data\n",
        "X_test2 = np.reshape(X_test2, (X_test2.shape[0], X_test2.shape[1], 1))\n"
      ],
      "execution_count": null,
      "outputs": []
    },
    {
      "cell_type": "code",
      "metadata": {
        "colab": {
          "base_uri": "https://localhost:8080/"
        },
        "id": "6A_jPFcq0YUJ",
        "outputId": "4e6773af-4f85-4481-a069-bf8b6599a9b1"
      },
      "source": [
        "last_60_days.shape"
      ],
      "execution_count": null,
      "outputs": [
        {
          "output_type": "execute_result",
          "data": {
            "text/plain": [
              "(30, 1)"
            ]
          },
          "metadata": {
            "tags": []
          },
          "execution_count": 63
        }
      ]
    },
    {
      "cell_type": "code",
      "metadata": {
        "id": "75KkdKIKyOwE"
      },
      "source": [
        "# Get the predicted scaled price\n",
        "pred_price = model4.predict(X_test2)   #############pake model terbaik\n",
        "# undo the scaling \n",
        "pred_price = scaler.inverse_transform(pred_price)\n",
        "\n",
        "#print(pred_price)"
      ],
      "execution_count": null,
      "outputs": []
    },
    {
      "cell_type": "code",
      "metadata": {
        "colab": {
          "base_uri": "https://localhost:8080/"
        },
        "id": "RmfK1MoHHb8Z",
        "outputId": "eb74d6f1-af35-4e22-f41b-0dce9188b2a8"
      },
      "source": [
        "# Get the quote\n",
        "bmri_uji_harga_hari_ini = data['close'][0]\n",
        "bmri_uji_harga_kemarin = data['close'][1]\n",
        "# hasil = apple_quote2['Close'] - pred_price[0][0]\n",
        "# print(pred_price[0][0])\n",
        "print(\"harga hari ini kenyantaan\",bmri_uji_harga_hari_ini)\n",
        "\n",
        "# Hasil Prediksi Besok akan terjadi kenaikan 2% \n",
        "tambah2persen = math.ceil(pred_price[0][0])\n",
        "# new_value = tambah2persen - pred_price[0][0] * 0.01 \n",
        "print(\"harga besok\",tambah2persen)\n",
        "\n",
        "LSTM_hasil = 1\n",
        "# JIKA HASIL PREDIKSI BESOK LEBIH BESAR 1.5 % DIBANDING HARGA HARI INI ATAU KEMARIN MAKA BELI\n",
        "if bmri_uji_harga_hari_ini < tambah2persen:\n",
        "  print(\"Beli Karena Prediksi akan terjadi kenaikan\")\n",
        "  LSTM_hasil = 1\n",
        "elif bmri_uji_harga_kemarin < tambah2persen:\n",
        "  print(\"Beli Karena Prediksi akan terjadi kenaikan\")\n",
        "  LSTM_hasil = 1\n",
        "else :\n",
        "  print(\"Jangan beli karena akan terjadi penurunan\")\n",
        "  LSTM_hasil = 0"
      ],
      "execution_count": null,
      "outputs": [
        {
          "output_type": "stream",
          "text": [
            "harga hari ini kenyantaan 6150\n",
            "harga besok 6157\n",
            "Beli Karena Prediksi akan terjadi kenaikan\n"
          ],
          "name": "stdout"
        }
      ]
    },
    {
      "cell_type": "code",
      "metadata": {
        "id": "2vKSxI6PDrfI"
      },
      "source": [
        "PEINT_R = 18.98\n",
        "DYINT_R = 3.5\n",
        "NGINT_R = -37.7\n",
        "MCINT_R = 287"
      ],
      "execution_count": null,
      "outputs": []
    },
    {
      "cell_type": "code",
      "metadata": {
        "colab": {
          "base_uri": "https://localhost:8080/"
        },
        "id": "TaHAxwkqGMBb",
        "outputId": "9c53e72a-9977-471c-9709-e5bb5df71002"
      },
      "source": [
        "# EXPERT SCORING WITH DECISION TREE KHUSUS UNTUK SEKTOR BANK\n",
        "print(\"Hasil dari LSTM\",LSTM_hasil)\n",
        "scoring = 0\n",
        "params = []\n",
        "# SYARAT PE TIDAK LEBIH BESAR DIBANDING 15 , DIVIDEN YIELD > 4% , Pertumbuhan Net Icome by Year 1.5% , \n",
        "# Market Cap > 200Triliun dan Hasil LSTM Positif Naik Besok\n",
        "if PEINT_R < 15.5:\n",
        "    scoring += 22 \n",
        "    #print(\"PEINT_R\")\n",
        "    params.append(\"Price Earning Ratio\")\n",
        "if DYINT_R > 4 :\n",
        "    scoring += 28\n",
        "    #print(\"DYINT_R\")\n",
        "    params.append(\"Pembagian Jumlah Dividen\")\n",
        "if NGINT_R > 1.5 :\n",
        "    scoring += 20\n",
        "    #print(\"NGINT_R\")\n",
        "    params.append(\"Pendapatan Bersih Perusahaan\")\n",
        "if MCINT_R > 200 : \n",
        "    scoring += 10\n",
        "    #print(\"MCINT_R\")\n",
        "    params.append(\"Market Capital Antimology2\")\n",
        "if LSTM == 1 :\n",
        "    scoring += 20\n",
        "    params.append(\"Close Price Prediction LSTM\")\n",
        "\n",
        "print(f\"Saham ini disupport oleh Parameter baik dengan score {scoring}\\nseperti\", params)\n",
        "\n",
        "if scoring < 60:\n",
        "   print(f\"Saham jelek jan dibeli\")\n",
        "else:\n",
        "  print(f\"Saham jelek jan dibeli\")"
      ],
      "execution_count": null,
      "outputs": [
        {
          "output_type": "stream",
          "text": [
            "Hasil dari LSTM 1\n",
            "Saham ini disupport oleh Parameter baik dengan score 10\n",
            "seperti ['Market Capital Antimology2']\n",
            "Saham jelek jan dibeli\n"
          ],
          "name": "stdout"
        }
      ]
    },
    {
      "cell_type": "markdown",
      "metadata": {
        "id": "ete24JrianeQ"
      },
      "source": [
        ""
      ]
    }
  ]
}